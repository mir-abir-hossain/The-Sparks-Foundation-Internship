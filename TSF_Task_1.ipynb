{
  "nbformat": 4,
  "nbformat_minor": 0,
  "metadata": {
    "colab": {
      "name": "TSF_Task_1.ipynb",
      "provenance": [],
      "collapsed_sections": [
        "cNzfj-zMo6G9",
        "1nD12BkwpmuF"
      ],
      "mount_file_id": "1Mwp8RJIJhWdxLXZ7QcINyhlj5BKMp4zU",
      "authorship_tag": "ABX9TyPy58mKXKuZynYtKzDXhUsD",
      "include_colab_link": true
    },
    "kernelspec": {
      "name": "python3",
      "display_name": "Python 3"
    },
    "language_info": {
      "name": "python"
    }
  },
  "cells": [
    {
      "cell_type": "markdown",
      "metadata": {
        "id": "view-in-github",
        "colab_type": "text"
      },
      "source": [
        "<a href=\"https://colab.research.google.com/github/mir-abir-hossain/The-Sparks-Foundation-Internship/blob/main/TSF_Task_1.ipynb\" target=\"_parent\"><img src=\"https://colab.research.google.com/assets/colab-badge.svg\" alt=\"Open In Colab\"/></a>"
      ]
    },
    {
      "cell_type": "markdown",
      "metadata": {
        "id": "1qvR-ir5dERO"
      },
      "source": [
        "### **Author : Mir Abir Hossain**\n",
        "\n",
        "### **The Sparks Foundation : Data Science & Business Analytics Intern**"
      ]
    },
    {
      "cell_type": "markdown",
      "metadata": {
        "id": "_iBSxB3clKAK"
      },
      "source": [
        "# **Task_1 : Prediction using Supervised ML**"
      ]
    },
    {
      "cell_type": "markdown",
      "metadata": {
        "id": "MPXHe-UinNqE"
      },
      "source": [
        "Problem statement :\n",
        "*  Predict the percentage of an student based on the no. of study hours.\n",
        "*  What will be predicted score if a student studies for 9.25 hrs/ day?\n",
        "\n"
      ]
    },
    {
      "cell_type": "markdown",
      "metadata": {
        "id": "cNzfj-zMo6G9"
      },
      "source": [
        "### **1. Importing libraires and looking at the data**\n"
      ]
    },
    {
      "cell_type": "code",
      "metadata": {
        "id": "alvPM6rEElcY"
      },
      "source": [
        "import pandas as pd\n",
        "import matplotlib.pyplot as plt\n",
        "df = pd.read_csv('/content/drive/MyDrive/lalka.txt')\n",
        "df"
      ],
      "execution_count": null,
      "outputs": []
    },
    {
      "cell_type": "code",
      "metadata": {
        "id": "gyubYJ1voJjf"
      },
      "source": [
        "df.plot(kind='scatter',x='Hours', y='Scores')\n",
        "plt.show()"
      ],
      "execution_count": null,
      "outputs": []
    },
    {
      "cell_type": "markdown",
      "metadata": {
        "id": "1nD12BkwpmuF"
      },
      "source": [
        "### **2. Using Machine Learning Algorithm to predict**\n",
        "\n",
        "> **Preparing the data**\n",
        "\n"
      ]
    },
    {
      "cell_type": "code",
      "metadata": {
        "id": "KIRLWWDqP-VX"
      },
      "source": [
        "X = df[['Hours']].values\n",
        "y = df['Scores'].values"
      ],
      "execution_count": null,
      "outputs": []
    },
    {
      "cell_type": "code",
      "metadata": {
        "id": "2BQYquJNPem9"
      },
      "source": [
        "from sklearn.model_selection import train_test_split\n",
        "X_train, X_test, y_train, y_test = train_test_split(X, y)\n",
        "print(X_train.shape, X_test.shape, y_train.shape, y_test.shape,sep='\\n')"
      ],
      "execution_count": null,
      "outputs": []
    },
    {
      "cell_type": "markdown",
      "metadata": {
        "id": "bzCx-y8trPav"
      },
      "source": [
        ">**Applying Linear Regression model**"
      ]
    },
    {
      "cell_type": "code",
      "metadata": {
        "id": "B0LiSB4pPLtC"
      },
      "source": [
        "from sklearn.linear_model import LinearRegression\n",
        "model = LinearRegression()\n",
        "model.fit(X_train, y_train)\n",
        "y_pred = model.predict(X_test)"
      ],
      "execution_count": null,
      "outputs": []
    },
    {
      "cell_type": "code",
      "metadata": {
        "id": "-56riXMir6TY"
      },
      "source": [
        "y_pred_1 = model.predict([[1],[9]])\n",
        "y_pred_1\n",
        "plt.scatter(X, y)\n",
        "plt.plot([[1],[9]],y_pred_1)\n",
        "plt.show()"
      ],
      "execution_count": null,
      "outputs": []
    },
    {
      "cell_type": "markdown",
      "metadata": {
        "id": "m02AY5IdPfO7"
      },
      "source": [
        "> **Comparing actual vs predicted score**"
      ]
    },
    {
      "cell_type": "code",
      "metadata": {
        "collapsed": true,
        "id": "TtuRg2gpPrqz"
      },
      "source": [
        "df1 = pd.DataFrame({'Actual': y_test, 'Predicted': y_pred})  \n",
        "df1 "
      ],
      "execution_count": null,
      "outputs": []
    },
    {
      "cell_type": "markdown",
      "metadata": {
        "id": "ehptoE_CVq2e"
      },
      "source": [
        "### **3. Evaluating the model**\n",
        "\n",
        "There are several ways to evaluate a regression model.\n",
        "\n",
        "> Co-efficient of determination (R^2 value)\n",
        "\n",
        "> Mean squared error\n",
        "\n",
        "> Root mean squared error\n",
        "\n",
        "and so on.\n",
        "\n",
        "We will use R^2 value and MSE."
      ]
    },
    {
      "cell_type": "code",
      "metadata": {
        "id": "WACjCQE-Y75b",
        "colab": {
          "base_uri": "https://localhost:8080/"
        },
        "outputId": "ddab028b-2d34-42ca-d913-bbc10794a4c8"
      },
      "source": [
        "from sklearn.metrics import mean_squared_error, r2_score, mean_absolute_error\n",
        "mse = mean_squared_error(y_test, y_pred)\n",
        "print(f\"Mean_squared_error: {mse}\")\n",
        "r2 = r2_score(y_test, y_pred)\n",
        "print(f\"R^2 value : {r2}\")\n",
        "mae = mean_absolute_error(y_test, y_pred)\n",
        "print(f'Mean_absolute_error: {mae}')"
      ],
      "execution_count": null,
      "outputs": [
        {
          "output_type": "stream",
          "text": [
            "Mean_squared_error: 29.915321023963802\n",
            "R^2 value : 0.9662433048504462\n",
            "Mean_absolute_error: 5.19672346002621\n"
          ],
          "name": "stdout"
        }
      ]
    },
    {
      "cell_type": "code",
      "metadata": {
        "id": "vI7Esoc9VrXf"
      },
      "source": [
        "ans = model.predict([[9.25]])\n",
        "print(f\"predicted score for a student studies for 9.25 hrs/ day is {ans[0]}\")"
      ],
      "execution_count": null,
      "outputs": []
    }
  ]
}