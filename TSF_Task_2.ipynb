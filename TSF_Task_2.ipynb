{
  "nbformat": 4,
  "nbformat_minor": 0,
  "metadata": {
    "colab": {
      "name": "TSF_Task_2.ipynb",
      "provenance": [],
      "collapsed_sections": [
        "uxE4diUYHA3o",
        "oYzxOoy9Hglz"
      ],
      "mount_file_id": "1nX1e5px1x7JcI7X_6VRFR9LLOsgPYTax",
      "authorship_tag": "ABX9TyPqCeUP6atOZdJYUimzSaYa",
      "include_colab_link": true
    },
    "kernelspec": {
      "name": "python3",
      "display_name": "Python 3"
    },
    "language_info": {
      "name": "python"
    }
  },
  "cells": [
    {
      "cell_type": "markdown",
      "metadata": {
        "id": "view-in-github",
        "colab_type": "text"
      },
      "source": [
        "<a href=\"https://colab.research.google.com/github/mir-abir-hossain/The-Sparks-Foundation-Internship/blob/main/TSF_Task_2.ipynb\" target=\"_parent\"><img src=\"https://colab.research.google.com/assets/colab-badge.svg\" alt=\"Open In Colab\"/></a>"
      ]
    },
    {
      "cell_type": "markdown",
      "metadata": {
        "id": "NFmmGNMxH9Wk"
      },
      "source": [
        "### **Author : Mir Abir Hossain**\n",
        "\n",
        "### **The Sparks Foundation : Data Science & Business Analytics Intern**"
      ]
    },
    {
      "cell_type": "markdown",
      "metadata": {
        "id": "38rBfYQ9F3C_"
      },
      "source": [
        "#**Task_2 : Prediction using Unsupervised ML** "
      ]
    },
    {
      "cell_type": "markdown",
      "metadata": {
        "id": "cgthA-IGGYKM"
      },
      "source": [
        "Problem Statement : From the given ‘Iris’ dataset, predict the optimum number of clusters\n",
        "and represent it visually."
      ]
    },
    {
      "cell_type": "markdown",
      "metadata": {
        "id": "mwb1hSt1GvWM"
      },
      "source": [
        "### **1. Importing libraires and looking at the data**"
      ]
    },
    {
      "cell_type": "code",
      "metadata": {
        "id": "N4o-yy2eTJ9F"
      },
      "source": [
        "import numpy as np\n",
        "import pandas as pd\n",
        "import matplotlib.pyplot as plt\n",
        "df = pd.read_csv('/content/drive/MyDrive/Iris task2.csv')\n",
        "df.head()"
      ],
      "execution_count": null,
      "outputs": []
    },
    {
      "cell_type": "code",
      "metadata": {
        "id": "tVycBgioTUOV"
      },
      "source": [
        "df.info()"
      ],
      "execution_count": null,
      "outputs": []
    },
    {
      "cell_type": "code",
      "metadata": {
        "id": "H54KXVIqU2Rd"
      },
      "source": [
        "df['Species'].value_counts()"
      ],
      "execution_count": null,
      "outputs": []
    },
    {
      "cell_type": "code",
      "metadata": {
        "id": "rHksyggvpRQd"
      },
      "source": [
        "import seaborn as sns\n",
        "sns.pairplot(df[['SepalLengthCm', 'SepalWidthCm', 'PetalLengthCm', 'PetalWidthCm', 'Species']], hue='Species')"
      ],
      "execution_count": null,
      "outputs": []
    },
    {
      "cell_type": "markdown",
      "metadata": {
        "id": "uxE4diUYHA3o"
      },
      "source": [
        "### **2. Figuring out optimum number of clusters**"
      ]
    },
    {
      "cell_type": "code",
      "metadata": {
        "id": "b-VaTGyrt-0a"
      },
      "source": [
        "X = df.iloc[:,[1,2,3,4]].values\n",
        "from sklearn.cluster import KMeans\n",
        "all_inertia = []\n",
        "for i in range(1,11):\n",
        "  kmeans = KMeans(n_clusters = i, random_state =0)\n",
        "  kmeans.fit(X)\n",
        "  all_inertia.append(kmeans.inertia_)\n",
        "all_inertia"
      ],
      "execution_count": null,
      "outputs": []
    },
    {
      "cell_type": "code",
      "metadata": {
        "id": "N5G2uown6Fid"
      },
      "source": [
        "plt.plot(list(range(1,11)), all_inertia, marker='o')\n",
        "plt.title('The elbow method')\n",
        "plt.xlabel('Number of clusters')\n",
        "plt.ylabel('all_inertia')"
      ],
      "execution_count": null,
      "outputs": []
    },
    {
      "cell_type": "markdown",
      "metadata": {
        "id": "oYzxOoy9Hglz"
      },
      "source": [
        "### **3.Applying k-means clustering model using optimum clusters**"
      ]
    },
    {
      "cell_type": "code",
      "metadata": {
        "id": "PzIXvlqH61CY"
      },
      "source": [
        "kmeans=KMeans(n_clusters = 3)\n",
        "kmeans.fit(X)\n",
        "y_kmeans = kmeans.predict(X)"
      ],
      "execution_count": null,
      "outputs": []
    },
    {
      "cell_type": "code",
      "metadata": {
        "id": "2O7VG5AO8HuP"
      },
      "source": [
        "plt.figure(figsize=(10,8))\n",
        "plt.scatter(X[y_kmeans == 0, 0], X[y_kmeans == 0, 1], \n",
        "            s = 100, c = 'red', label = 'Iris-setosa')\n",
        "plt.scatter(X[y_kmeans == 1, 0], X[y_kmeans == 1, 1], \n",
        "            s = 100, c = 'blue', label = 'Iris-versicolour')\n",
        "plt.scatter(X[y_kmeans == 2, 0], X[y_kmeans == 2, 1],\n",
        "            s = 100, c = 'green', label = 'Iris-virginica')\n",
        "# Plotting the centroids of the clusters\n",
        "plt.scatter(kmeans.cluster_centers_[:, 0], kmeans.cluster_centers_[:,1], marker='*',\n",
        "            s = 200, c = 'black', label = 'Centroids')\n",
        "\n",
        "plt.legend(loc=1)\n",
        "plt.figure(figsize=(15,12))"
      ],
      "execution_count": null,
      "outputs": []
    },
    {
      "cell_type": "code",
      "metadata": {
        "id": "u6YJTPW-BfnV"
      },
      "source": [
        "print(df[y_kmeans==0][['Species']].value_counts())\n",
        "print(df[y_kmeans==1][['Species']].value_counts())\n",
        "print(df[y_kmeans==2][['Species']].value_counts())\n"
      ],
      "execution_count": null,
      "outputs": []
    }
  ]
}